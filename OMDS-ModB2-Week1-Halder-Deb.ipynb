{
 "cells": [
  {
   "cell_type": "code",
   "id": "e0392320-e3f8-4e08-a7f2-373d91054cae",
   "metadata": {
    "jupyter": {
     "source_hidden": true
    },
    "ExecuteTime": {
     "end_time": "2025-03-08T04:22:53.361077Z",
     "start_time": "2025-03-08T04:22:53.355150Z"
    }
   },
   "source": [],
   "outputs": [],
   "execution_count": null
  },
  {
   "cell_type": "markdown",
   "id": "48a74b5e-5180-4544-86a0-b047a877eb8e",
   "metadata": {},
   "source": [
    "# Week 1 - Preprocessing\n",
    "\n",
    "## Please run the cells of the notebook as you get to them while reading"
   ]
  },
  {
   "cell_type": "code",
   "id": "5c24f12c-b364-40f0-b295-7c1ba88be680",
   "metadata": {
    "ExecuteTime": {
     "end_time": "2025-03-08T04:22:53.395591Z",
     "start_time": "2025-03-08T04:22:53.384162Z"
    }
   },
   "source": [
    "import pandas as pd\n",
    "import numpy as np\n",
    "from datetime import datetime\n",
    "\n",
    "from pandas import Series\n",
    "from zmq.backend import first"
   ],
   "outputs": [],
   "execution_count": 426
  },
  {
   "cell_type": "markdown",
   "id": "23c513ee-9d2b-408f-bbcd-33fa70a299e8",
   "metadata": {},
   "source": [
    "# 1. Lesson on how to search for Python commands\n",
    "\n",
    "Let's consider a few possible ways to learn about Python programming.  Let's suppose you want to learn how to produce a short summary of the information in your DataFrame.\n",
    "\n",
    "1. Your **instructor** could provide the information.\n",
    "\n",
    "You could be provided with a lesson about functions like info() and describe().  If you have a pandas DataFrame called df, then you can summarize its contents using df.info() or df.describe().  df.info() provides a list of column names with their counts and data types.  df.describe() will provide information such as the mean, min, max, standard deviation, and quantiles.  Thus:"
   ]
  },
  {
   "cell_type": "code",
   "id": "33d97ef1-f92d-45a1-89e6-efea4d42ba75",
   "metadata": {
    "ExecuteTime": {
     "end_time": "2025-03-08T04:22:53.464428Z",
     "start_time": "2025-03-08T04:22:53.454069Z"
    }
   },
   "source": [
    "df = pd.DataFrame([[1, 4], [2, 5], [3, 6], [4, 7]], columns = ['A', 'B'])\n",
    "df.describe()"
   ],
   "outputs": [
    {
     "data": {
      "text/plain": [
       "              A         B\n",
       "count  4.000000  4.000000\n",
       "mean   2.500000  5.500000\n",
       "std    1.290994  1.290994\n",
       "min    1.000000  4.000000\n",
       "25%    1.750000  4.750000\n",
       "50%    2.500000  5.500000\n",
       "75%    3.250000  6.250000\n",
       "max    4.000000  7.000000"
      ],
      "text/html": [
       "<div>\n",
       "<style scoped>\n",
       "    .dataframe tbody tr th:only-of-type {\n",
       "        vertical-align: middle;\n",
       "    }\n",
       "\n",
       "    .dataframe tbody tr th {\n",
       "        vertical-align: top;\n",
       "    }\n",
       "\n",
       "    .dataframe thead th {\n",
       "        text-align: right;\n",
       "    }\n",
       "</style>\n",
       "<table border=\"1\" class=\"dataframe\">\n",
       "  <thead>\n",
       "    <tr style=\"text-align: right;\">\n",
       "      <th></th>\n",
       "      <th>A</th>\n",
       "      <th>B</th>\n",
       "    </tr>\n",
       "  </thead>\n",
       "  <tbody>\n",
       "    <tr>\n",
       "      <th>count</th>\n",
       "      <td>4.000000</td>\n",
       "      <td>4.000000</td>\n",
       "    </tr>\n",
       "    <tr>\n",
       "      <th>mean</th>\n",
       "      <td>2.500000</td>\n",
       "      <td>5.500000</td>\n",
       "    </tr>\n",
       "    <tr>\n",
       "      <th>std</th>\n",
       "      <td>1.290994</td>\n",
       "      <td>1.290994</td>\n",
       "    </tr>\n",
       "    <tr>\n",
       "      <th>min</th>\n",
       "      <td>1.000000</td>\n",
       "      <td>4.000000</td>\n",
       "    </tr>\n",
       "    <tr>\n",
       "      <th>25%</th>\n",
       "      <td>1.750000</td>\n",
       "      <td>4.750000</td>\n",
       "    </tr>\n",
       "    <tr>\n",
       "      <th>50%</th>\n",
       "      <td>2.500000</td>\n",
       "      <td>5.500000</td>\n",
       "    </tr>\n",
       "    <tr>\n",
       "      <th>75%</th>\n",
       "      <td>3.250000</td>\n",
       "      <td>6.250000</td>\n",
       "    </tr>\n",
       "    <tr>\n",
       "      <th>max</th>\n",
       "      <td>4.000000</td>\n",
       "      <td>7.000000</td>\n",
       "    </tr>\n",
       "  </tbody>\n",
       "</table>\n",
       "</div>"
      ]
     },
     "execution_count": 427,
     "metadata": {},
     "output_type": "execute_result"
    }
   ],
   "execution_count": 427
  },
  {
   "cell_type": "markdown",
   "id": "6541ee48-fb69-40d5-8b39-8f1b02918a9e",
   "metadata": {},
   "source": [
    "In this describe() result, we see that the two columns A and B each have four elements.  The means and other statistics are shown.\n",
    "\n",
    "2. You could look up the information on **Google**.\n",
    "\n",
    "If I Google the question \"how do I briefly summarize the contents of a dataframe using Python,\" I receive the following link (among others), which discusses the describe() command mentioned above:\n",
    "\n",
    "https://www.w3schools.com/python/pandas/ref_df_describe.asp\n",
    "\n",
    "It also provide the complete usage information:\n",
    "\n",
    "dataframe.describe(percentiles, include, exclude, datetime_is_numeric)\n",
    "\n",
    "It explains that \"percentiles\" is set by default to [0.25, 0.5, 0.75] but we could change that.  Let's try it!  Since there are three intervals here rather than four, it might be more meaningful to ask about a 33rd and 67th percentile rather than 25, 50, and 75.  We can use 1/3 for 0.33 and 2/3 for 0.67 to get the exact percentile values."
   ]
  },
  {
   "cell_type": "code",
   "id": "3aea76dd-f492-4bbe-9431-8e1a41cf0db9",
   "metadata": {
    "ExecuteTime": {
     "end_time": "2025-03-08T04:22:53.521099Z",
     "start_time": "2025-03-08T04:22:53.514108Z"
    }
   },
   "source": [
    "df = pd.DataFrame([[1, 4], [2, 5], [3, 6], [4, 7]], columns = ['A', 'B'])\n",
    "df.describe(percentiles = [1/3, 2/3])"
   ],
   "outputs": [
    {
     "data": {
      "text/plain": [
       "              A         B\n",
       "count  4.000000  4.000000\n",
       "mean   2.500000  5.500000\n",
       "std    1.290994  1.290994\n",
       "min    1.000000  4.000000\n",
       "33.3%  2.000000  5.000000\n",
       "50%    2.500000  5.500000\n",
       "66.7%  3.000000  6.000000\n",
       "max    4.000000  7.000000"
      ],
      "text/html": [
       "<div>\n",
       "<style scoped>\n",
       "    .dataframe tbody tr th:only-of-type {\n",
       "        vertical-align: middle;\n",
       "    }\n",
       "\n",
       "    .dataframe tbody tr th {\n",
       "        vertical-align: top;\n",
       "    }\n",
       "\n",
       "    .dataframe thead th {\n",
       "        text-align: right;\n",
       "    }\n",
       "</style>\n",
       "<table border=\"1\" class=\"dataframe\">\n",
       "  <thead>\n",
       "    <tr style=\"text-align: right;\">\n",
       "      <th></th>\n",
       "      <th>A</th>\n",
       "      <th>B</th>\n",
       "    </tr>\n",
       "  </thead>\n",
       "  <tbody>\n",
       "    <tr>\n",
       "      <th>count</th>\n",
       "      <td>4.000000</td>\n",
       "      <td>4.000000</td>\n",
       "    </tr>\n",
       "    <tr>\n",
       "      <th>mean</th>\n",
       "      <td>2.500000</td>\n",
       "      <td>5.500000</td>\n",
       "    </tr>\n",
       "    <tr>\n",
       "      <th>std</th>\n",
       "      <td>1.290994</td>\n",
       "      <td>1.290994</td>\n",
       "    </tr>\n",
       "    <tr>\n",
       "      <th>min</th>\n",
       "      <td>1.000000</td>\n",
       "      <td>4.000000</td>\n",
       "    </tr>\n",
       "    <tr>\n",
       "      <th>33.3%</th>\n",
       "      <td>2.000000</td>\n",
       "      <td>5.000000</td>\n",
       "    </tr>\n",
       "    <tr>\n",
       "      <th>50%</th>\n",
       "      <td>2.500000</td>\n",
       "      <td>5.500000</td>\n",
       "    </tr>\n",
       "    <tr>\n",
       "      <th>66.7%</th>\n",
       "      <td>3.000000</td>\n",
       "      <td>6.000000</td>\n",
       "    </tr>\n",
       "    <tr>\n",
       "      <th>max</th>\n",
       "      <td>4.000000</td>\n",
       "      <td>7.000000</td>\n",
       "    </tr>\n",
       "  </tbody>\n",
       "</table>\n",
       "</div>"
      ]
     },
     "execution_count": 428,
     "metadata": {},
     "output_type": "execute_result"
    }
   ],
   "execution_count": 428
  },
  {
   "cell_type": "markdown",
   "id": "6cd06ce3-edf9-4786-982d-5650fc22ca58",
   "metadata": {},
   "source": [
    "Apparently, the 50% value (the median) stays even though we did not specifically request it.\n",
    "\n",
    "3. You could look up the official **documentation**.\n",
    "\n",
    "Now that we know we want the pandas describe() function, try Googling: pandas documentation describe.\n",
    "\n",
    "Here is the general documentation page for pandas:\n",
    "\n",
    "https://pandas.pydata.org/docs/index.html\n",
    "\n",
    "Here is the specific page for the describe() function:\n",
    "\n",
    "https://pandas.pydata.org/docs/reference/api/pandas.DataFrame.describe.html\n",
    "\n",
    "When I look at this, it appears to be showing the most recent (currently 2.2) version of pandas; this is shown in the upper right corner.\n",
    "\n",
    "4. You could also ask **ChatGPT**.\n",
    "\n",
    "Let's try it.  ChatGPT, \"how do I briefly summarize the contents of a dataframe using Python\"\n",
    "\n",
    "When I do this, ChatGPT mentions describe() among other options, but does not go into detail.  However, I could ask it.  ChatGPT, \"tell me more about describe() in Python for summarizing dataframes.\"\n",
    "\n",
    "Then, I get a good explanation of describe(), although it does not mention the percentiles option.  One advantage of using Google or the documentation in addition of ChatGPT is that these sources may provide interesting information that does not directly answer our question.  Thus, we might not have known about the various arguments, such as percentiles, if we only used ChatGPT.  A second issue is that ChatGPT sometimes hallucinates (it makes up information).  In general, by examining multiple sources - Google, documentation, and ChatGPT - we can get more information."
   ]
  },
  {
   "cell_type": "markdown",
   "id": "1cede07d-03a8-4c36-b5ca-67619bbfd365",
   "metadata": {},
   "source": [
    "# 2. Weekly graph question"
   ]
  },
  {
   "cell_type": "markdown",
   "id": "4a71d462-12df-4b94-b34f-4d43e4d289d7",
   "metadata": {},
   "source": [
    "In Storytelling With Data, on page 1: examine the pie chart graph in the upper left corner of the graphs.  Please write a short explanation of the pros and cons of this graph.  What do you think of the choice of pie chart as a format?  The color scheme?  The legend?  The title?  How would you draw it differently if you were creating this graph?"
   ]
  },
  {
   "metadata": {},
   "cell_type": "markdown",
   "source": [
    "The pie chart mentioned has below pros and cons :\n",
    " \n",
    "Pros:\n",
    "The Piechart has legend\n",
    "There are different colors which looks good\n",
    "The Piechart shows the % share of various categories measured\n",
    "\n",
    "Cons:\n",
    "The real estate used wasted right hand side part\n",
    "The Title doesnt excatly say what the survey is and the sample size\n",
    "The color used may not be suitable for color blind people\n",
    "\n",
    "If I draw i will do the following:\n",
    "I will use colors which are more suitable for color blind people\n",
    "I will use shaded chart i.e with pattern which will help color blind people\n",
    "I will use Legend at the bottom of the chart thereby maximizing the use of real estate for the pie chart\n",
    "I will Title with what the results are for and indicate the sample size"
   ],
   "id": "a980b52ea39dd7ee"
  },
  {
   "cell_type": "markdown",
   "id": "52a54048-d621-47b9-aa65-4b46d9c3bb4c",
   "metadata": {},
   "source": [
    "# 3. Homework - Bank Customers\n",
    "\n",
    "I will begin by creating a file for you to analyze.  I will show you all of the steps I used to create it.  Please run this code in order to create and save a file about bank customers.\n",
    "\n",
    "### The numbered problems are for you to solve."
   ]
  },
  {
   "cell_type": "code",
   "id": "2950b5f1-9ab8-452f-b9d7-31ce82bbf698",
   "metadata": {
    "ExecuteTime": {
     "end_time": "2025-03-08T04:22:53.609586Z",
     "start_time": "2025-03-08T04:22:53.602903Z"
    }
   },
   "source": [
    "num_customers = 100\n",
    "np.random.seed(0)"
   ],
   "outputs": [],
   "execution_count": 429
  },
  {
   "cell_type": "code",
   "id": "95561d16-3aac-4537-841a-835272775080",
   "metadata": {
    "ExecuteTime": {
     "end_time": "2025-03-08T04:22:53.749321Z",
     "start_time": "2025-03-08T04:22:53.746501Z"
    }
   },
   "source": [
    "df_bank = pd.DataFrame(columns = [\"CustomerID\"])"
   ],
   "outputs": [],
   "execution_count": 430
  },
  {
   "cell_type": "code",
   "id": "3e84ff91-47c6-4788-b56b-1d63a2b06a33",
   "metadata": {
    "ExecuteTime": {
     "end_time": "2025-03-08T04:22:53.814766Z",
     "start_time": "2025-03-08T04:22:53.812304Z"
    }
   },
   "source": [
    "df_bank[\"CustomerID\"] = [str(x) for x in np.arange(num_customers)]"
   ],
   "outputs": [],
   "execution_count": 431
  },
  {
   "cell_type": "code",
   "id": "5983f3fb-8341-4bb0-92be-850dd712c853",
   "metadata": {
    "ExecuteTime": {
     "end_time": "2025-03-08T04:22:53.838176Z",
     "start_time": "2025-03-08T04:22:53.829087Z"
    }
   },
   "source": [
    "start = datetime(1950, 1, 1)\n",
    "end = datetime(2024, 1, 1)\n",
    "numdays = (end - start).days\n",
    "random_days = np.random.randint(0, numdays, size = num_customers)\n",
    "df_bank[\"BirthDate\"] = start + pd.to_timedelta(random_days, unit='D')\n",
    "df_bank[\"BirthDate\"] = df_bank[\"BirthDate\"].dt.strftime('%Y-%m-%d')"
   ],
   "outputs": [],
   "execution_count": 432
  },
  {
   "cell_type": "code",
   "id": "64adeb78-6b2c-46df-a4f0-8aee5fa75f83",
   "metadata": {
    "ExecuteTime": {
     "end_time": "2025-03-08T04:22:53.885508Z",
     "start_time": "2025-03-08T04:22:53.870616Z"
    }
   },
   "source": [
    "def make_ssn_string(num):\n",
    "    ssn_str = f'{num:09}'\n",
    "    return ssn_str[0:3] + \"-\" + ssn_str[3:5] + \"-\" + ssn_str[5:9]\n",
    "ssn_vector_func = np.vectorize(make_ssn_string)\n",
    "df_bank[\"SSN\"] = ssn_vector_func(np.random.randint(0, 999999999, size = num_customers))"
   ],
   "outputs": [],
   "execution_count": 433
  },
  {
   "cell_type": "code",
   "id": "0a8e00bb-2f97-4e11-a95f-138baf44206e",
   "metadata": {
    "ExecuteTime": {
     "end_time": "2025-03-08T04:22:53.899363Z",
     "start_time": "2025-03-08T04:22:53.896711Z"
    }
   },
   "source": [
    "df_bank[\"AccountID\"] = np.random.randint(0, num_customers, size = num_customers)"
   ],
   "outputs": [],
   "execution_count": 434
  },
  {
   "cell_type": "code",
   "id": "bc41db6c-9e4a-4efc-af0d-9f921bb77ec7",
   "metadata": {
    "ExecuteTime": {
     "end_time": "2025-03-08T04:22:53.925455Z",
     "start_time": "2025-03-08T04:22:53.910354Z"
    }
   },
   "source": [
    "random_days = np.random.randint(0, 365 * 80, size = num_customers)\n",
    "df_bank[\"AccountOpened\"] = (pd.to_datetime(df_bank[\"BirthDate\"]) + pd.to_timedelta(random_days, unit='D')).dt.strftime('%Y-%m-%d')"
   ],
   "outputs": [],
   "execution_count": 435
  },
  {
   "cell_type": "code",
   "id": "cd2ddf02-7ef2-485a-8d1a-1049b30630dd",
   "metadata": {
    "ExecuteTime": {
     "end_time": "2025-03-08T04:22:54.026971Z",
     "start_time": "2025-03-08T04:22:54.015529Z"
    }
   },
   "source": [
    "df_bank.loc[0, \"BirthDate\"] = \"1980\"\n",
    "df_bank.loc[1, \"BirthDate\"] = \"no date\""
   ],
   "outputs": [],
   "execution_count": 436
  },
  {
   "cell_type": "code",
   "id": "e5e52d8f-10b5-433f-bcfa-9d50232041e0",
   "metadata": {
    "ExecuteTime": {
     "end_time": "2025-03-08T04:22:54.061280Z",
     "start_time": "2025-03-08T04:22:54.059149Z"
    }
   },
   "source": [
    "df_bank.loc[2, \"AccountID\"] = np.nan"
   ],
   "outputs": [],
   "execution_count": 437
  },
  {
   "cell_type": "code",
   "id": "bdb0d5e7-1bcb-48f0-ab70-c7c3d4b8bfce",
   "metadata": {
    "ExecuteTime": {
     "end_time": "2025-03-08T04:22:54.090016Z",
     "start_time": "2025-03-08T04:22:54.087651Z"
    }
   },
   "source": [
    "df_bank[\"AccountType\"] = np.random.choice([\"checking\", \"savings\", \"cd\"], size = num_customers)"
   ],
   "outputs": [],
   "execution_count": 438
  },
  {
   "cell_type": "markdown",
   "id": "314a2bef-d599-4599-b555-7a01c2cd3fb3",
   "metadata": {},
   "source": [
    "Load the bank_customers.csv file.  (There is no practical reason to save it, then load it - we're just demonstrating how this would be done.)\n",
    "I am calling the loaded df by a new name, df_bank_loaded, to make clear why it's not the same variable as the old df.  Of course, in actuality the two contain the exact same data!  But it's good to get in the habit of naming things carefully."
   ]
  },
  {
   "cell_type": "code",
   "id": "15dea7e7-619d-4d3f-aa72-712f3da7d384",
   "metadata": {
    "ExecuteTime": {
     "end_time": "2025-03-08T04:22:54.110103Z",
     "start_time": "2025-03-08T04:22:54.102918Z"
    }
   },
   "source": [
    "df_bank.loc[num_customers - 1] = df.loc[0]\n",
    "df_bank.to_csv(\"bank_customers.csv\", index=False)"
   ],
   "outputs": [],
   "execution_count": 439
  },
  {
   "cell_type": "code",
   "id": "faf79336-ba67-446e-8220-e77534c4c949",
   "metadata": {
    "ExecuteTime": {
     "end_time": "2025-03-08T04:22:54.135339Z",
     "start_time": "2025-03-08T04:22:54.128651Z"
    }
   },
   "source": [
    "df_bank_loaded = pd.read_csv(\"bank_customers.csv\")"
   ],
   "outputs": [],
   "execution_count": 440
  },
  {
   "cell_type": "markdown",
   "id": "380145bb-e051-418d-b3d2-ad032cab375b",
   "metadata": {},
   "source": [
    "1. Use describe() and info() to analyze the data.   Also, look at the first few rows."
   ]
  },
  {
   "cell_type": "markdown",
   "id": "8897936c-9af9-4344-bdb7-6290d8b34bce",
   "metadata": {},
   "source": [
    "Suggested Google Search or ChatGPT prompt: \"how do I use the describe function in python\"\n",
    "\n",
    "Example Google result: https://www.w3schools.com/python/pandas/ref_df_describe.asp"
   ]
  },
  {
   "metadata": {
    "ExecuteTime": {
     "end_time": "2025-03-08T04:22:54.195621Z",
     "start_time": "2025-03-08T04:22:54.186042Z"
    }
   },
   "cell_type": "code",
   "source": "df_bank_loaded.describe()",
   "id": "7260472ea4dbf6f4",
   "outputs": [
    {
     "data": {
      "text/plain": [
       "       CustomerID  AccountID\n",
       "count   99.000000  98.000000\n",
       "mean    49.000000  46.551020\n",
       "std     28.722813  27.679358\n",
       "min      0.000000   0.000000\n",
       "25%     24.500000  25.500000\n",
       "50%     49.000000  42.000000\n",
       "75%     73.500000  71.000000\n",
       "max     98.000000  97.000000"
      ],
      "text/html": [
       "<div>\n",
       "<style scoped>\n",
       "    .dataframe tbody tr th:only-of-type {\n",
       "        vertical-align: middle;\n",
       "    }\n",
       "\n",
       "    .dataframe tbody tr th {\n",
       "        vertical-align: top;\n",
       "    }\n",
       "\n",
       "    .dataframe thead th {\n",
       "        text-align: right;\n",
       "    }\n",
       "</style>\n",
       "<table border=\"1\" class=\"dataframe\">\n",
       "  <thead>\n",
       "    <tr style=\"text-align: right;\">\n",
       "      <th></th>\n",
       "      <th>CustomerID</th>\n",
       "      <th>AccountID</th>\n",
       "    </tr>\n",
       "  </thead>\n",
       "  <tbody>\n",
       "    <tr>\n",
       "      <th>count</th>\n",
       "      <td>99.000000</td>\n",
       "      <td>98.000000</td>\n",
       "    </tr>\n",
       "    <tr>\n",
       "      <th>mean</th>\n",
       "      <td>49.000000</td>\n",
       "      <td>46.551020</td>\n",
       "    </tr>\n",
       "    <tr>\n",
       "      <th>std</th>\n",
       "      <td>28.722813</td>\n",
       "      <td>27.679358</td>\n",
       "    </tr>\n",
       "    <tr>\n",
       "      <th>min</th>\n",
       "      <td>0.000000</td>\n",
       "      <td>0.000000</td>\n",
       "    </tr>\n",
       "    <tr>\n",
       "      <th>25%</th>\n",
       "      <td>24.500000</td>\n",
       "      <td>25.500000</td>\n",
       "    </tr>\n",
       "    <tr>\n",
       "      <th>50%</th>\n",
       "      <td>49.000000</td>\n",
       "      <td>42.000000</td>\n",
       "    </tr>\n",
       "    <tr>\n",
       "      <th>75%</th>\n",
       "      <td>73.500000</td>\n",
       "      <td>71.000000</td>\n",
       "    </tr>\n",
       "    <tr>\n",
       "      <th>max</th>\n",
       "      <td>98.000000</td>\n",
       "      <td>97.000000</td>\n",
       "    </tr>\n",
       "  </tbody>\n",
       "</table>\n",
       "</div>"
      ]
     },
     "execution_count": 441,
     "metadata": {},
     "output_type": "execute_result"
    }
   ],
   "execution_count": 441
  },
  {
   "metadata": {
    "ExecuteTime": {
     "end_time": "2025-03-08T04:22:54.238926Z",
     "start_time": "2025-03-08T04:22:54.231936Z"
    }
   },
   "cell_type": "code",
   "source": "df_bank_loaded.info()",
   "id": "82aeffff120426d5",
   "outputs": [
    {
     "name": "stdout",
     "output_type": "stream",
     "text": [
      "<class 'pandas.core.frame.DataFrame'>\n",
      "RangeIndex: 100 entries, 0 to 99\n",
      "Data columns (total 6 columns):\n",
      " #   Column         Non-Null Count  Dtype  \n",
      "---  ------         --------------  -----  \n",
      " 0   CustomerID     99 non-null     float64\n",
      " 1   BirthDate      99 non-null     object \n",
      " 2   SSN            99 non-null     object \n",
      " 3   AccountID      98 non-null     float64\n",
      " 4   AccountOpened  99 non-null     object \n",
      " 5   AccountType    99 non-null     object \n",
      "dtypes: float64(2), object(4)\n",
      "memory usage: 4.8+ KB\n"
     ]
    }
   ],
   "execution_count": 442
  },
  {
   "cell_type": "code",
   "id": "5fb74ed3-871e-41b6-99f5-da7eb3a37712",
   "metadata": {
    "ExecuteTime": {
     "end_time": "2025-03-08T04:22:54.330955Z",
     "start_time": "2025-03-08T04:22:54.326640Z"
    }
   },
   "source": [
    "# The first few rows\n",
    "df_bank_loaded.iloc[0:5]"
   ],
   "outputs": [
    {
     "data": {
      "text/plain": [
       "   CustomerID   BirthDate          SSN  AccountID AccountOpened AccountType\n",
       "0         0.0        1980  530-47-1866        4.0    1959-12-06    checking\n",
       "1         1.0     no date  682-76-9175       67.0    2039-02-20          cd\n",
       "2         2.0  1976-12-15  377-98-9839        NaN    2019-03-25    checking\n",
       "3         3.0  2003-10-18  474-05-7613       86.0    2004-03-02          cd\n",
       "4         4.0  1985-12-06  750-55-5509       77.0    2059-05-05          cd"
      ],
      "text/html": [
       "<div>\n",
       "<style scoped>\n",
       "    .dataframe tbody tr th:only-of-type {\n",
       "        vertical-align: middle;\n",
       "    }\n",
       "\n",
       "    .dataframe tbody tr th {\n",
       "        vertical-align: top;\n",
       "    }\n",
       "\n",
       "    .dataframe thead th {\n",
       "        text-align: right;\n",
       "    }\n",
       "</style>\n",
       "<table border=\"1\" class=\"dataframe\">\n",
       "  <thead>\n",
       "    <tr style=\"text-align: right;\">\n",
       "      <th></th>\n",
       "      <th>CustomerID</th>\n",
       "      <th>BirthDate</th>\n",
       "      <th>SSN</th>\n",
       "      <th>AccountID</th>\n",
       "      <th>AccountOpened</th>\n",
       "      <th>AccountType</th>\n",
       "    </tr>\n",
       "  </thead>\n",
       "  <tbody>\n",
       "    <tr>\n",
       "      <th>0</th>\n",
       "      <td>0.0</td>\n",
       "      <td>1980</td>\n",
       "      <td>530-47-1866</td>\n",
       "      <td>4.0</td>\n",
       "      <td>1959-12-06</td>\n",
       "      <td>checking</td>\n",
       "    </tr>\n",
       "    <tr>\n",
       "      <th>1</th>\n",
       "      <td>1.0</td>\n",
       "      <td>no date</td>\n",
       "      <td>682-76-9175</td>\n",
       "      <td>67.0</td>\n",
       "      <td>2039-02-20</td>\n",
       "      <td>cd</td>\n",
       "    </tr>\n",
       "    <tr>\n",
       "      <th>2</th>\n",
       "      <td>2.0</td>\n",
       "      <td>1976-12-15</td>\n",
       "      <td>377-98-9839</td>\n",
       "      <td>NaN</td>\n",
       "      <td>2019-03-25</td>\n",
       "      <td>checking</td>\n",
       "    </tr>\n",
       "    <tr>\n",
       "      <th>3</th>\n",
       "      <td>3.0</td>\n",
       "      <td>2003-10-18</td>\n",
       "      <td>474-05-7613</td>\n",
       "      <td>86.0</td>\n",
       "      <td>2004-03-02</td>\n",
       "      <td>cd</td>\n",
       "    </tr>\n",
       "    <tr>\n",
       "      <th>4</th>\n",
       "      <td>4.0</td>\n",
       "      <td>1985-12-06</td>\n",
       "      <td>750-55-5509</td>\n",
       "      <td>77.0</td>\n",
       "      <td>2059-05-05</td>\n",
       "      <td>cd</td>\n",
       "    </tr>\n",
       "  </tbody>\n",
       "</table>\n",
       "</div>"
      ]
     },
     "execution_count": 443,
     "metadata": {},
     "output_type": "execute_result"
    }
   ],
   "execution_count": 443
  },
  {
   "cell_type": "markdown",
   "id": "e6062d1d-bf7f-4e81-8d19-60bd160c02d5",
   "metadata": {},
   "source": [
    "If you used describe() and info(), you now know that BirthDate and AccountOpened are strings.  But we want them to be dates.  Let's convert them to dates (or Timestamps in pandas).  When we try this, we get a ValueError."
   ]
  },
  {
   "cell_type": "code",
   "id": "89e37c09-aee4-49f5-abc5-1e6ec9837b53",
   "metadata": {
    "ExecuteTime": {
     "end_time": "2025-03-08T04:22:54.412401Z",
     "start_time": "2025-03-08T04:22:54.410072Z"
    }
   },
   "source": [
    "try:\n",
    "    df_bank_loaded[\"BirthDate\"] = pd.to_datetime(df_bank_loaded[\"BirthDate\"], format='%Y-%m-%d')\n",
    "    print(\"It worked!\")\n",
    "except ValueError as e:\n",
    "    print(f\"ValueError for BirthDate: {e}\")"
   ],
   "outputs": [
    {
     "name": "stdout",
     "output_type": "stream",
     "text": [
      "ValueError for BirthDate: time data \"1980\" doesn't match format \"%Y-%m-%d\", at position 0. You might want to try:\n",
      "    - passing `format` if your strings have a consistent format;\n",
      "    - passing `format='ISO8601'` if your strings are all ISO8601 but not necessarily in exactly the same format;\n",
      "    - passing `format='mixed'`, and the format will be inferred for each element individually. You might want to use `dayfirst` alongside this.\n"
     ]
    }
   ],
   "execution_count": 444
  },
  {
   "cell_type": "code",
   "id": "dbcb584b-134b-475b-8fd4-70ca1ba7d03b",
   "metadata": {
    "ExecuteTime": {
     "end_time": "2025-03-08T04:22:54.519473Z",
     "start_time": "2025-03-08T04:22:54.516465Z"
    }
   },
   "source": [
    "try:\n",
    "    df_bank_loaded[\"AccountOpened\"] = pd.to_datetime(df_bank_loaded[\"AccountOpened\"], format='%Y-%m-%d')\n",
    "    print(\"It worked!\")\n",
    "except ValueError as e:\n",
    "    print(f\"ValueError for AccountOpened: {e}\")"
   ],
   "outputs": [
    {
     "name": "stdout",
     "output_type": "stream",
     "text": [
      "It worked!\n"
     ]
    }
   ],
   "execution_count": 445
  },
  {
   "cell_type": "markdown",
   "id": "d64b1ccf-1001-40ab-b026-beae68b7fd19",
   "metadata": {},
   "source": [
    "The simple way to fix this is to remove the rows that have bad dates for BirthDate.  I Googled:\n",
    "\n",
    "\"How to remove rows from a dataframe that have poorly formatted dates using python\"\n",
    "\n",
    "https://stackoverflow.com/questions/21556744/pandas-remove-rows-whose-date-does-not-follow-specified-format\n",
    "\n",
    "This recommends that I verify that the date is a string of length 10, because YYYY-MM-DD has that length:\n",
    "\n",
    "df1\\[df1.BirthDate.str.len() !=10]"
   ]
  },
  {
   "cell_type": "code",
   "id": "70ec53a1-2de5-48b5-9942-6857495e2b05",
   "metadata": {
    "ExecuteTime": {
     "end_time": "2025-03-08T04:22:54.643179Z",
     "start_time": "2025-03-08T04:22:54.637748Z"
    }
   },
   "source": [
    "len(df_bank_loaded[df_bank_loaded.BirthDate.str.len() == 10])"
   ],
   "outputs": [
    {
     "data": {
      "text/plain": [
       "97"
      ]
     },
     "execution_count": 446,
     "metadata": {},
     "output_type": "execute_result"
    }
   ],
   "execution_count": 446
  },
  {
   "cell_type": "code",
   "id": "a4edac07-185c-45ad-ba95-cca56bca0c7e",
   "metadata": {
    "ExecuteTime": {
     "end_time": "2025-03-08T04:22:54.742023Z",
     "start_time": "2025-03-08T04:22:54.737254Z"
    }
   },
   "source": [
    "df_bank_loaded[df_bank_loaded.BirthDate.str.len() != 10].iloc[0:5]"
   ],
   "outputs": [
    {
     "data": {
      "text/plain": [
       "    CustomerID BirthDate          SSN  AccountID AccountOpened AccountType\n",
       "0          0.0      1980  530-47-1866        4.0    1959-12-06    checking\n",
       "1          1.0   no date  682-76-9175       67.0    2039-02-20          cd\n",
       "99         NaN       NaN          NaN        NaN           NaT         NaN"
      ],
      "text/html": [
       "<div>\n",
       "<style scoped>\n",
       "    .dataframe tbody tr th:only-of-type {\n",
       "        vertical-align: middle;\n",
       "    }\n",
       "\n",
       "    .dataframe tbody tr th {\n",
       "        vertical-align: top;\n",
       "    }\n",
       "\n",
       "    .dataframe thead th {\n",
       "        text-align: right;\n",
       "    }\n",
       "</style>\n",
       "<table border=\"1\" class=\"dataframe\">\n",
       "  <thead>\n",
       "    <tr style=\"text-align: right;\">\n",
       "      <th></th>\n",
       "      <th>CustomerID</th>\n",
       "      <th>BirthDate</th>\n",
       "      <th>SSN</th>\n",
       "      <th>AccountID</th>\n",
       "      <th>AccountOpened</th>\n",
       "      <th>AccountType</th>\n",
       "    </tr>\n",
       "  </thead>\n",
       "  <tbody>\n",
       "    <tr>\n",
       "      <th>0</th>\n",
       "      <td>0.0</td>\n",
       "      <td>1980</td>\n",
       "      <td>530-47-1866</td>\n",
       "      <td>4.0</td>\n",
       "      <td>1959-12-06</td>\n",
       "      <td>checking</td>\n",
       "    </tr>\n",
       "    <tr>\n",
       "      <th>1</th>\n",
       "      <td>1.0</td>\n",
       "      <td>no date</td>\n",
       "      <td>682-76-9175</td>\n",
       "      <td>67.0</td>\n",
       "      <td>2039-02-20</td>\n",
       "      <td>cd</td>\n",
       "    </tr>\n",
       "    <tr>\n",
       "      <th>99</th>\n",
       "      <td>NaN</td>\n",
       "      <td>NaN</td>\n",
       "      <td>NaN</td>\n",
       "      <td>NaN</td>\n",
       "      <td>NaT</td>\n",
       "      <td>NaN</td>\n",
       "    </tr>\n",
       "  </tbody>\n",
       "</table>\n",
       "</div>"
      ]
     },
     "execution_count": 447,
     "metadata": {},
     "output_type": "execute_result"
    }
   ],
   "execution_count": 447
  },
  {
   "cell_type": "markdown",
   "id": "2503d01f-0168-43f9-a271-6f529e47886f",
   "metadata": {},
   "source": [
    "Now we can make this permanent, creating a new DataFrame df_bank_datefix.\n",
    "I am making a copy in order to ensure that df_bank_datefix is a new DataFrame rather than being a slice of the old one."
   ]
  },
  {
   "cell_type": "code",
   "id": "d1bed857-0d03-4091-9838-fd75227c63e3",
   "metadata": {
    "ExecuteTime": {
     "end_time": "2025-03-08T04:22:54.796919Z",
     "start_time": "2025-03-08T04:22:54.793143Z"
    }
   },
   "source": [
    "df_bank_datefix = df_bank_loaded[df_bank_loaded.BirthDate.str.len() == 10].copy()"
   ],
   "outputs": [],
   "execution_count": 448
  },
  {
   "cell_type": "markdown",
   "id": "838e568e-a333-4d18-ba8d-84c2926191e8",
   "metadata": {},
   "source": [
    "Test again:"
   ]
  },
  {
   "cell_type": "code",
   "id": "d8655d6a-0a79-42c4-891a-cb421d664ca0",
   "metadata": {
    "ExecuteTime": {
     "end_time": "2025-03-08T04:22:54.906873Z",
     "start_time": "2025-03-08T04:22:54.896344Z"
    }
   },
   "source": [
    "try:\n",
    "    df_bank_datefix[\"BirthDate\"] = pd.to_datetime(df_bank_datefix[\"BirthDate\"], format='%Y-%m-%d')\n",
    "    print(\"It worked!\")\n",
    "except ValueError as e:\n",
    "    print(f\"ValueError: {e}\")"
   ],
   "outputs": [
    {
     "name": "stdout",
     "output_type": "stream",
     "text": [
      "It worked!\n"
     ]
    }
   ],
   "execution_count": 449
  },
  {
   "cell_type": "markdown",
   "id": "fa88b739-9481-46fd-a8bd-996ed0e0bc2f",
   "metadata": {},
   "source": [
    "2. To check that it worked, use a summary function that will tell you if the BirthDate field is now a datetime type"
   ]
  },
  {
   "cell_type": "code",
   "id": "ce550219-274c-4e3c-953d-cdf920a37990",
   "metadata": {
    "ExecuteTime": {
     "end_time": "2025-03-08T04:22:55.066810Z",
     "start_time": "2025-03-08T04:22:55.063508Z"
    }
   },
   "source": "df_bank_datefix.info()",
   "outputs": [
    {
     "name": "stdout",
     "output_type": "stream",
     "text": [
      "<class 'pandas.core.frame.DataFrame'>\n",
      "Index: 97 entries, 2 to 98\n",
      "Data columns (total 6 columns):\n",
      " #   Column         Non-Null Count  Dtype         \n",
      "---  ------         --------------  -----         \n",
      " 0   CustomerID     97 non-null     float64       \n",
      " 1   BirthDate      97 non-null     datetime64[ns]\n",
      " 2   SSN            97 non-null     object        \n",
      " 3   AccountID      96 non-null     float64       \n",
      " 4   AccountOpened  97 non-null     datetime64[ns]\n",
      " 5   AccountType    97 non-null     object        \n",
      "dtypes: datetime64[ns](2), float64(2), object(2)\n",
      "memory usage: 5.3+ KB\n"
     ]
    }
   ],
   "execution_count": 450
  },
  {
   "metadata": {},
   "cell_type": "markdown",
   "source": "We see above the Dtype for the BirthDate is now datetime64 type",
   "id": "bfacfd0436d77dee"
  },
  {
   "cell_type": "markdown",
   "id": "ed7ac0d0-be31-4c50-838d-f104463a8114",
   "metadata": {},
   "source": [
    "3. Check whether there are any null values in the DataFrame.  If so, remove those rows or (if you prefer) fill in the value with an appropriate number.\n",
    "\n",
    "First try at a Google search or ChatGPT prompt: \"how do I find out if there are any null values in a pandas DataFrame?\"\n",
    "\n",
    "This page gives an answer.  Unfortunately, it took my request too literally: it tells me only if there are any, and not which rows have them.  On reflection, that's not really what I want - I think I asked the wrong question.  I want to see the rows, not just _whether_ there are any.\n",
    "\n",
    "https://stackoverflow.com/questions/29530232/how-to-check-if-any-value-is-nan-in-a-pandas-dataframe\n",
    "\n",
    "ChatGPT likewise doesn't give the answer I want - because I asked the wrong question.\n",
    "\n",
    "Next try at a Google search or ChatGPT prompt: \"how do I check which rows have null values in a pandas DataFrame?\"\n",
    "\n",
    "This page gives an answer:\n",
    "\n",
    "https://stackoverflow.com/questions/36226083/how-to-find-which-columns-contain-any-nan-value-in-pandas-dataframe\n",
    "\n",
    "ChatGPT also gives a good answer.  I recommend looking at both of them!\n",
    "\n",
    "Now try it on your own:\n",
    "\n",
    "Suggested Google search or ChatGPT prompt: \"how do I remove rows with null values in a pandas DataFrame?\"\n",
    "\n",
    "Suggested Google search or ChatGPT prompt: \"how do I fill in null values in a pandas DataFrame?\""
   ]
  },
  {
   "cell_type": "code",
   "id": "a8ffaf2e-a8b2-42a2-ad09-e014431fccea",
   "metadata": {
    "ExecuteTime": {
     "end_time": "2025-03-08T04:22:55.142108Z",
     "start_time": "2025-03-08T04:22:55.137609Z"
    }
   },
   "source": "df_bank_datefix.columns[df_bank_datefix.isna().any()].tolist()\n",
   "outputs": [
    {
     "data": {
      "text/plain": [
       "['AccountID']"
      ]
     },
     "execution_count": 451,
     "metadata": {},
     "output_type": "execute_result"
    }
   ],
   "execution_count": 451
  },
  {
   "metadata": {},
   "cell_type": "markdown",
   "source": "The above code gives the name of columns which have null values",
   "id": "579606b4477ac1be"
  },
  {
   "metadata": {
    "ExecuteTime": {
     "end_time": "2025-03-08T04:22:55.180864Z",
     "start_time": "2025-03-08T04:22:55.178196Z"
    }
   },
   "cell_type": "code",
   "source": "df_bank_datefix['AccountID'].isna().count()\n",
   "id": "ecb6b2cfcf90d492",
   "outputs": [
    {
     "data": {
      "text/plain": [
       "np.int64(97)"
      ]
     },
     "execution_count": 452,
     "metadata": {},
     "output_type": "execute_result"
    }
   ],
   "execution_count": 452
  },
  {
   "metadata": {},
   "cell_type": "markdown",
   "source": "The above code gives the count of null values in the column AccountID  i.e 97",
   "id": "e16b9008d5921143"
  },
  {
   "metadata": {
    "ExecuteTime": {
     "end_time": "2025-03-08T04:22:55.221371Z",
     "start_time": "2025-03-08T04:22:55.219181Z"
    }
   },
   "cell_type": "code",
   "source": "df_bank_datefix = df_bank_datefix.dropna()",
   "id": "6a264c1b7995d81a",
   "outputs": [],
   "execution_count": 453
  },
  {
   "metadata": {},
   "cell_type": "markdown",
   "source": "The above code in the cell  drops the rows with null values",
   "id": "2676fd10755f61b4"
  },
  {
   "cell_type": "markdown",
   "id": "54ca88fe-0b67-473e-965f-7e5da13f2a02",
   "metadata": {},
   "source": "4. Find out if there are any duplicate rows (two rows exactly the same).  List their row numbers.  Then remove the duplicatesdulicae"
  },
  {
   "metadata": {
    "ExecuteTime": {
     "end_time": "2025-03-08T04:22:55.248139Z",
     "start_time": "2025-03-08T04:22:55.246834Z"
    }
   },
   "cell_type": "code",
   "source": "",
   "id": "28189dc169e0cef2",
   "outputs": [],
   "execution_count": null
  },
  {
   "metadata": {
    "ExecuteTime": {
     "end_time": "2025-03-08T04:22:55.315211Z",
     "start_time": "2025-03-08T04:22:55.309917Z"
    }
   },
   "cell_type": "code",
   "source": "df_bank_datefix.tail()",
   "id": "67ea9fe4747f73b8",
   "outputs": [
    {
     "data": {
      "text/plain": [
       "    CustomerID  BirthDate          SSN  AccountID AccountOpened AccountType\n",
       "94        94.0 1969-03-14  958-12-8308        5.0    2037-04-03     savings\n",
       "95        95.0 1975-09-23  607-97-1651       36.0    2011-07-24    checking\n",
       "96        96.0 1989-03-09  870-80-0364        0.0    2054-11-01          cd\n",
       "97        97.0 1960-09-23  773-33-2797       75.0    1993-09-16          cd\n",
       "98        98.0 1975-08-17  846-64-7054       34.0    2032-12-25     savings"
      ],
      "text/html": [
       "<div>\n",
       "<style scoped>\n",
       "    .dataframe tbody tr th:only-of-type {\n",
       "        vertical-align: middle;\n",
       "    }\n",
       "\n",
       "    .dataframe tbody tr th {\n",
       "        vertical-align: top;\n",
       "    }\n",
       "\n",
       "    .dataframe thead th {\n",
       "        text-align: right;\n",
       "    }\n",
       "</style>\n",
       "<table border=\"1\" class=\"dataframe\">\n",
       "  <thead>\n",
       "    <tr style=\"text-align: right;\">\n",
       "      <th></th>\n",
       "      <th>CustomerID</th>\n",
       "      <th>BirthDate</th>\n",
       "      <th>SSN</th>\n",
       "      <th>AccountID</th>\n",
       "      <th>AccountOpened</th>\n",
       "      <th>AccountType</th>\n",
       "    </tr>\n",
       "  </thead>\n",
       "  <tbody>\n",
       "    <tr>\n",
       "      <th>94</th>\n",
       "      <td>94.0</td>\n",
       "      <td>1969-03-14</td>\n",
       "      <td>958-12-8308</td>\n",
       "      <td>5.0</td>\n",
       "      <td>2037-04-03</td>\n",
       "      <td>savings</td>\n",
       "    </tr>\n",
       "    <tr>\n",
       "      <th>95</th>\n",
       "      <td>95.0</td>\n",
       "      <td>1975-09-23</td>\n",
       "      <td>607-97-1651</td>\n",
       "      <td>36.0</td>\n",
       "      <td>2011-07-24</td>\n",
       "      <td>checking</td>\n",
       "    </tr>\n",
       "    <tr>\n",
       "      <th>96</th>\n",
       "      <td>96.0</td>\n",
       "      <td>1989-03-09</td>\n",
       "      <td>870-80-0364</td>\n",
       "      <td>0.0</td>\n",
       "      <td>2054-11-01</td>\n",
       "      <td>cd</td>\n",
       "    </tr>\n",
       "    <tr>\n",
       "      <th>97</th>\n",
       "      <td>97.0</td>\n",
       "      <td>1960-09-23</td>\n",
       "      <td>773-33-2797</td>\n",
       "      <td>75.0</td>\n",
       "      <td>1993-09-16</td>\n",
       "      <td>cd</td>\n",
       "    </tr>\n",
       "    <tr>\n",
       "      <th>98</th>\n",
       "      <td>98.0</td>\n",
       "      <td>1975-08-17</td>\n",
       "      <td>846-64-7054</td>\n",
       "      <td>34.0</td>\n",
       "      <td>2032-12-25</td>\n",
       "      <td>savings</td>\n",
       "    </tr>\n",
       "  </tbody>\n",
       "</table>\n",
       "</div>"
      ]
     },
     "execution_count": 454,
     "metadata": {},
     "output_type": "execute_result"
    }
   ],
   "execution_count": 454
  },
  {
   "metadata": {},
   "cell_type": "markdown",
   "source": "Below two lines showif something is duplicate or not if it returns true then that s duplicte",
   "id": "acb04c7d3dbda9ca"
  },
  {
   "metadata": {
    "ExecuteTime": {
     "end_time": "2025-03-08T04:22:55.389185Z",
     "start_time": "2025-03-08T04:22:55.381422Z"
    }
   },
   "cell_type": "code",
   "source": [
    "duplicate_rows = df_bank_datefix.duplicated()\n",
    "print(duplicate_rows)"
   ],
   "id": "b95b5f73256904db",
   "outputs": [
    {
     "name": "stdout",
     "output_type": "stream",
     "text": [
      "3     False\n",
      "4     False\n",
      "5     False\n",
      "6     False\n",
      "7     False\n",
      "      ...  \n",
      "94    False\n",
      "95    False\n",
      "96    False\n",
      "97    False\n",
      "98    False\n",
      "Length: 96, dtype: bool\n"
     ]
    }
   ],
   "execution_count": 455
  },
  {
   "metadata": {
    "ExecuteTime": {
     "end_time": "2025-03-08T04:22:55.479819Z",
     "start_time": "2025-03-08T04:22:55.476870Z"
    }
   },
   "cell_type": "code",
   "source": [
    "#df_bank_datefix.duplicated()\n",
    "df_bank_datefix.shape"
   ],
   "id": "59ba2165936f5606",
   "outputs": [
    {
     "data": {
      "text/plain": [
       "(96, 6)"
      ]
     },
     "execution_count": 456,
     "metadata": {},
     "output_type": "execute_result"
    }
   ],
   "execution_count": 456
  },
  {
   "metadata": {
    "ExecuteTime": {
     "end_time": "2025-03-08T04:22:55.570177Z",
     "start_time": "2025-03-08T04:22:55.564514Z"
    }
   },
   "cell_type": "code",
   "source": [
    "duplicates_df = df_bank_datefix[df_bank_datefix.duplicated(keep='first')]\n",
    "print(duplicates_df)\n"
   ],
   "id": "ee073bc8ae482af7",
   "outputs": [
    {
     "name": "stdout",
     "output_type": "stream",
     "text": [
      "Empty DataFrame\n",
      "Columns: [CustomerID, BirthDate, SSN, AccountID, AccountOpened, AccountType]\n",
      "Index: []\n"
     ]
    }
   ],
   "execution_count": 457
  },
  {
   "metadata": {},
   "cell_type": "markdown",
   "source": "So in the above cell as we see there are no duplicate rows",
   "id": "eb902b219e9115e7"
  },
  {
   "cell_type": "markdown",
   "id": "5abf0983-4861-486b-bfc0-942b6772c866",
   "metadata": {},
   "source": [
    "Suggested Google search or ChatGPT prompt: \"how can I find out if there are any duplicate rows in a DataFrame using Python\"\n",
    "\n",
    "Again, Google provides me with a page that addresses the question:\n",
    "\n",
    "https://saturncloud.io/blog/how-to-find-all-duplicate-rows-in-a-pandas-dataframe/\n",
    "\n",
    "To remove the duplicates, do this search: \"how can I remove the duplicate rows in a DataFrame using Python\"\n",
    "\n",
    "This leads me to the following documentation.\n",
    "\n",
    "https://pandas.pydata.org/docs/reference/api/pandas.DataFrame.drop_duplicates.html"
   ]
  },
  {
   "metadata": {},
   "cell_type": "markdown",
   "source": [
    "Here is what I see from \n",
    "https://saturncloud.io/blog/how-to-find-all-duplicate-rows-in-a-pandas-dataframe/\n",
    "\n",
    "### find duplicate rows\n",
    "duplicate_rows = df.duplicated()\n",
    "\n",
    "### print duplicate rows\n",
    "print(duplicate_rows)"
   ],
   "id": "ad3add3800ac4f5b"
  },
  {
   "cell_type": "code",
   "id": "acd1cc2f-2879-4839-8ac7-9b2bc306dfb5",
   "metadata": {
    "ExecuteTime": {
     "end_time": "2025-03-08T04:22:55.654665Z",
     "start_time": "2025-03-08T04:22:55.653025Z"
    }
   },
   "source": [],
   "outputs": [],
   "execution_count": null
  },
  {
   "cell_type": "markdown",
   "id": "cc5cd8a5-c8bd-498c-b8b5-25dd74cdd2c6",
   "metadata": {},
   "source": [
    "5. Check whether the customers all have unique AccountIDs.  If not, provide the first example of a non-unique AccountId."
   ]
  },
  {
   "cell_type": "markdown",
   "id": "9b4f3f46-b09e-4a48-a3f4-72e1d1ba77fc",
   "metadata": {},
   "source": [
    "Suggested Google search or ChatGPT prompt: \"how can I find the first non-unique item from a pandas Series in python\"\n",
    "\n",
    "By the way: why didn't I ask the question \"how can I check whether the customers all have unique AccountIDs\"?\n",
    "\n",
    "The problem would be that Google and ChatGPT don't know what \"customers\" you are talking about.  It's important to understand that the AccountIDs are a column of a DataFrame, and as such they are a Series.  Therefore, we should use the correct vocabulary and ask about a Series.  If you mess up and ask about a \"list\" instead of a Series, you _might_ get an answer that still works.  But it's better to get the vocabularly right.\n",
    "\n",
    "It's important to add \"in python\" because this task could be performed in many languages.\n",
    "\n",
    "ChatGPT gave me this suggestion: data[data.isin(data[data.duplicated()])].iloc[0]\n",
    "However, ChatGPT did not explain how this code worked and even claimed (falsely) that it was going to use the value_counts() function in the solution.  So although the code is correct, I personally found ChatGPT's answer very confusing.  You could, perhaps, ask ChatGPT to explain further how this code works.\n",
    "\n",
    "ChatGPT, \"How does this code work: data[data.isin(data[data.duplicated()])].iloc[0]\"\n",
    "\n",
    "On the other hand, Google leads me to the documentation for the duplicated() function:\n",
    "\n",
    "https://pandas.pydata.org/docs/reference/api/pandas.Series.duplicated.html\n",
    "\n",
    "Here, I can see that when I really need is data.duplicated(keep = False), where \"data\" should be the Series in question.  However, this just gives me a Series of boolean values indicating which ones are duplicates.  I have to somehow know that extracting the numerical values instead of a Series of booleans involves boolean indexing: data\\[data.duplicated(keep = False)].\n",
    "\n",
    "So as usual, I'd suggest that a combination of Google, documentation, and ChatGPT will give you the best information."
   ]
  },
  {
   "metadata": {},
   "cell_type": "markdown",
   "source": "#lets check if ther are duplicates and their index. Let us find unique account number in the series\n",
   "id": "9fdd384d205bed36"
  },
  {
   "metadata": {
    "ExecuteTime": {
     "end_time": "2025-03-08T04:22:55.709381Z",
     "start_time": "2025-03-08T04:22:55.704606Z"
    }
   },
   "cell_type": "code",
   "source": [
    "series = df_bank_datefix[\"AccountID\"]\n",
    "duplicate_account =series.duplicated()\n",
    "#series_unique_accountID = series.unique()   #first method\n",
    "#print(\"first method \",series_unique_accountID )\n",
    "\n",
    "series_unique_accountID = series [~duplicate_account]  #2nd method\n",
    "series_unique_accountID.shape\n",
    "series_unique_accountID.rename(\"Unique_Account_ID\")\n",
    "series_unique_accountID\n",
    "#print(\"first method \",series_unique_accountID )"
   ],
   "id": "c48deeec3c18ad30",
   "outputs": [
    {
     "data": {
      "text/plain": [
       "3     86.0\n",
       "4     77.0\n",
       "5     75.0\n",
       "6     56.0\n",
       "7     16.0\n",
       "      ... \n",
       "88    97.0\n",
       "90    34.0\n",
       "94     5.0\n",
       "95    36.0\n",
       "96     0.0\n",
       "Name: AccountID, Length: 63, dtype: float64"
      ]
     },
     "execution_count": 458,
     "metadata": {},
     "output_type": "execute_result"
    }
   ],
   "execution_count": 458
  },
  {
   "cell_type": "code",
   "id": "d3825ba0-a790-42e0-94ad-df931dbad3cf",
   "metadata": {
    "ExecuteTime": {
     "end_time": "2025-03-08T04:22:55.750866Z",
     "start_time": "2025-03-08T04:22:55.747974Z"
    }
   },
   "source": "df_bank_datefix[\"AccountID\"].unique().shape",
   "outputs": [
    {
     "data": {
      "text/plain": [
       "(63,)"
      ]
     },
     "execution_count": 459,
     "metadata": {},
     "output_type": "execute_result"
    }
   ],
   "execution_count": 459
  },
  {
   "metadata": {},
   "cell_type": "markdown",
   "source": "The count of unique account id  is 63",
   "id": "a9fc19e512ca5bd2"
  },
  {
   "cell_type": "markdown",
   "id": "ed68b682-fb52-4c2d-a172-5a76aa31395b",
   "metadata": {},
   "source": [
    "6. Count how many distinct AccountIDs there are."
   ]
  },
  {
   "cell_type": "markdown",
   "id": "754c31c5-e1d2-4387-bbe8-d156e731483a",
   "metadata": {},
   "source": [
    "Suggested Google search or ChatGPT prompt: \"how can I find out how many distinct items there are in a pandas Series using python\"\n",
    "\n",
    "This time Google provides me with a page that's specifically made to answer this question:\n",
    "\n",
    "https://www.geeksforgeeks.org/how-to-count-distinct-values-of-a-pandas-dataframe-column/"
   ]
  },
  {
   "cell_type": "code",
   "id": "3a5c497f-acca-4bea-b693-9e628ce40c8f",
   "metadata": {
    "ExecuteTime": {
     "end_time": "2025-03-08T04:22:55.886400Z",
     "start_time": "2025-03-08T04:22:55.883422Z"
    }
   },
   "source": "df_bank_datefix[\"AccountID\"].unique().shape",
   "outputs": [
    {
     "data": {
      "text/plain": [
       "(63,)"
      ]
     },
     "execution_count": 460,
     "metadata": {},
     "output_type": "execute_result"
    }
   ],
   "execution_count": 460
  },
  {
   "cell_type": "markdown",
   "id": "85058f11-6222-4511-92f6-537be74c4807",
   "metadata": {},
   "source": [
    "7. Remove the duplicate AccountIDs so that each AccountID appears only once.\n",
    "\n",
    "This will involve using data.duplicated() but this time without keep = False.  We don't want to drop all duplicates; we want to leave one example of each value."
   ]
  },
  {
   "metadata": {
    "ExecuteTime": {
     "end_time": "2025-03-08T04:22:55.935707Z",
     "start_time": "2025-03-08T04:22:55.932599Z"
    }
   },
   "cell_type": "code",
   "source": [
    "from datetime import date\n",
    " \n",
    "def calculateAge(fromDate):\n",
    "    today = date.today()\n",
    "    age = today.year - fromDate.year - ((today.month, today.day) < (fromDate.month, fromDate.day))\n",
    "    return age"
   ],
   "id": "346ba679955643c3",
   "outputs": [],
   "execution_count": 461
  },
  {
   "cell_type": "code",
   "id": "d904a7ec-a21c-498b-bd1c-1b8415a48f2a",
   "metadata": {
    "ExecuteTime": {
     "end_time": "2025-03-08T04:22:55.970723Z",
     "start_time": "2025-03-08T04:22:55.967548Z"
    }
   },
   "source": [
    "df_bank_datefix = df_bank_datefix[~df_bank_datefix.duplicated(subset='AccountID')]\n",
    "df_bank_datefix.shape"
   ],
   "outputs": [
    {
     "data": {
      "text/plain": [
       "(63, 6)"
      ]
     },
     "execution_count": 462,
     "metadata": {},
     "output_type": "execute_result"
    }
   ],
   "execution_count": 462
  },
  {
   "cell_type": "markdown",
   "id": "a3b55f40-7b54-462c-82a5-05960d970365",
   "metadata": {},
   "source": [
    "8. What are the mean, median, and mode customer age in years?  (Rounding down to the next lower age.)\n",
    "Are there any outliers?  (Customers with very large or very small ages, compared with the other ages?)"
   ]
  },
  {
   "cell_type": "markdown",
   "id": "48b8cb00-e676-4b21-9211-06f26edf5a61",
   "metadata": {},
   "source": [
    "Suggested Google search or ChatGPT prompt: \"how can I find out the mean, median, and mode of a pandas Series\""
   ]
  },
  {
   "metadata": {
    "ExecuteTime": {
     "end_time": "2025-03-08T04:22:56.031386Z",
     "start_time": "2025-03-08T04:22:56.028689Z"
    }
   },
   "cell_type": "code",
   "source": "df_bank_datefix[\"BirthDate\"]",
   "id": "251a9a4b8ce51c4e",
   "outputs": [
    {
     "data": {
      "text/plain": [
       "3    2003-10-18\n",
       "4    1985-12-06\n",
       "5    2008-02-29\n",
       "6    1975-04-05\n",
       "7    2016-06-18\n",
       "        ...    \n",
       "88   1962-02-07\n",
       "90   1969-06-18\n",
       "94   1969-03-14\n",
       "95   1975-09-23\n",
       "96   1989-03-09\n",
       "Name: BirthDate, Length: 63, dtype: datetime64[ns]"
      ]
     },
     "execution_count": 463,
     "metadata": {},
     "output_type": "execute_result"
    }
   ],
   "execution_count": 463
  },
  {
   "metadata": {
    "ExecuteTime": {
     "end_time": "2025-03-08T04:22:56.079124Z",
     "start_time": "2025-03-08T04:22:56.076442Z"
    }
   },
   "cell_type": "code",
   "source": [
    "\n",
    "df_bank_datefix[\"BirthDate\"].mean().strftime('%Y-%m-%d')\n"
   ],
   "id": "c3a4ee28cf57823",
   "outputs": [
    {
     "data": {
      "text/plain": [
       "'1987-11-05'"
      ]
     },
     "execution_count": 464,
     "metadata": {},
     "output_type": "execute_result"
    }
   ],
   "execution_count": 464
  },
  {
   "metadata": {
    "ExecuteTime": {
     "end_time": "2025-03-08T04:22:56.221497Z",
     "start_time": "2025-03-08T04:22:56.218095Z"
    }
   },
   "cell_type": "code",
   "source": "df_bank_datefix[\"BirthDate\"].median().strftime('%Y-%m-%d')",
   "id": "65261c7207e33334",
   "outputs": [
    {
     "data": {
      "text/plain": [
       "'1990-09-27'"
      ]
     },
     "execution_count": 465,
     "metadata": {},
     "output_type": "execute_result"
    }
   ],
   "execution_count": 465
  },
  {
   "metadata": {
    "ExecuteTime": {
     "end_time": "2025-03-08T04:22:56.348798Z",
     "start_time": "2025-03-08T04:22:56.345254Z"
    }
   },
   "cell_type": "code",
   "source": "df_bank_datefix[\"BirthDate\"].mode()",
   "id": "6a6a4a5a6cfee8c0",
   "outputs": [
    {
     "data": {
      "text/plain": [
       "0    1952-01-26\n",
       "1    1952-03-08\n",
       "2    1955-02-15\n",
       "3    1955-12-04\n",
       "4    1956-11-01\n",
       "        ...    \n",
       "58   2017-07-23\n",
       "59   2017-09-13\n",
       "60   2019-06-26\n",
       "61   2022-08-23\n",
       "62   2023-03-31\n",
       "Name: BirthDate, Length: 63, dtype: datetime64[ns]"
      ]
     },
     "execution_count": 466,
     "metadata": {},
     "output_type": "execute_result"
    }
   ],
   "execution_count": 466
  },
  {
   "metadata": {
    "ExecuteTime": {
     "end_time": "2025-03-08T04:22:56.406978Z",
     "start_time": "2025-03-08T04:22:56.403169Z"
    }
   },
   "cell_type": "code",
   "source": "df_bank_datefix[\"BirthDate\"].mode().value_counts()",
   "id": "184a6b6b5a0429b9",
   "outputs": [
    {
     "data": {
      "text/plain": [
       "BirthDate\n",
       "1952-01-26    1\n",
       "2002-05-17    1\n",
       "1991-07-31    1\n",
       "1991-09-29    1\n",
       "1992-03-31    1\n",
       "             ..\n",
       "1985-12-06    1\n",
       "1987-08-29    1\n",
       "1988-08-25    1\n",
       "1989-03-09    1\n",
       "2023-03-31    1\n",
       "Name: count, Length: 63, dtype: int64"
      ]
     },
     "execution_count": 467,
     "metadata": {},
     "output_type": "execute_result"
    }
   ],
   "execution_count": 467
  },
  {
   "metadata": {
    "ExecuteTime": {
     "end_time": "2025-03-08T04:22:56.461801Z",
     "start_time": "2025-03-08T04:22:56.458450Z"
    }
   },
   "cell_type": "code",
   "source": "df_bank_datefix[\"BirthDate\"].mode().shape  # confirmation that there are",
   "id": "2f9bd7e7cf6a283c",
   "outputs": [
    {
     "data": {
      "text/plain": [
       "(63,)"
      ]
     },
     "execution_count": 468,
     "metadata": {},
     "output_type": "execute_result"
    }
   ],
   "execution_count": 468
  },
  {
   "metadata": {
    "ExecuteTime": {
     "end_time": "2025-03-08T04:22:56.634071Z",
     "start_time": "2025-03-08T04:22:56.629395Z"
    }
   },
   "cell_type": "code",
   "source": "df_bank_datefix[\"BirthDate\"].min()",
   "id": "7a5150f407844c8d",
   "outputs": [
    {
     "data": {
      "text/plain": [
       "Timestamp('1952-01-26 00:00:00')"
      ]
     },
     "execution_count": 469,
     "metadata": {},
     "output_type": "execute_result"
    }
   ],
   "execution_count": 469
  },
  {
   "metadata": {},
   "cell_type": "markdown",
   "source": "#### Lets calculate the age. For the previous question there is no mode as all are unique entries based dn the date column\n",
   "id": "ac78988eefcbd501"
  },
  {
   "metadata": {},
   "cell_type": "markdown",
   "source": [
    "#### from google search : Python program to calculate age in years\n",
    "https://www.geeksforgeeks.org/python-program-to-calculate-age-in-year/\n",
    "\n"
   ],
   "id": "302982e5ee41c44f"
  },
  {
   "metadata": {
    "ExecuteTime": {
     "end_time": "2025-03-08T04:22:56.695513Z",
     "start_time": "2025-03-08T04:22:56.692422Z"
    }
   },
   "cell_type": "code",
   "source": [
    "    \n",
    "# Driver code \n",
    "#print(calculateAge(date(1997, 2, 3)), \"years\")\n",
    "print(calculateAge(df_bank_datefix[\"BirthDate\"].median()))"
   ],
   "id": "9aeefb0e4107ec40",
   "outputs": [
    {
     "name": "stdout",
     "output_type": "stream",
     "text": [
      "34\n"
     ]
    }
   ],
   "execution_count": 470
  },
  {
   "cell_type": "markdown",
   "id": "b2cc3e88-aa16-4748-bf2d-b4c9672c7170",
   "metadata": {},
   "source": [
    "9. One-hot encode the AccountType column.  This means creating a new \"checking,\" \"savings\", and \"cd\" columns so that you can run machine learning algorithms."
   ]
  },
  {
   "cell_type": "code",
   "id": "3ef9c041-9c44-4130-beec-c701ca1117a8",
   "metadata": {
    "ExecuteTime": {
     "end_time": "2025-03-08T04:22:56.763551Z",
     "start_time": "2025-03-08T04:22:56.756246Z"
    }
   },
   "source": [
    "one_hot = pd.get_dummies(df_bank_datefix[\"AccountType\"])\n",
    "df_bank_datefix = df_bank_datefix.join(one_hot)\n",
    "one_hot.iloc[0:5]"
   ],
   "outputs": [
    {
     "data": {
      "text/plain": [
       "      cd  checking  savings\n",
       "3   True     False    False\n",
       "4   True     False    False\n",
       "5  False      True    False\n",
       "6  False     False     True\n",
       "7  False     False     True"
      ],
      "text/html": [
       "<div>\n",
       "<style scoped>\n",
       "    .dataframe tbody tr th:only-of-type {\n",
       "        vertical-align: middle;\n",
       "    }\n",
       "\n",
       "    .dataframe tbody tr th {\n",
       "        vertical-align: top;\n",
       "    }\n",
       "\n",
       "    .dataframe thead th {\n",
       "        text-align: right;\n",
       "    }\n",
       "</style>\n",
       "<table border=\"1\" class=\"dataframe\">\n",
       "  <thead>\n",
       "    <tr style=\"text-align: right;\">\n",
       "      <th></th>\n",
       "      <th>cd</th>\n",
       "      <th>checking</th>\n",
       "      <th>savings</th>\n",
       "    </tr>\n",
       "  </thead>\n",
       "  <tbody>\n",
       "    <tr>\n",
       "      <th>3</th>\n",
       "      <td>True</td>\n",
       "      <td>False</td>\n",
       "      <td>False</td>\n",
       "    </tr>\n",
       "    <tr>\n",
       "      <th>4</th>\n",
       "      <td>True</td>\n",
       "      <td>False</td>\n",
       "      <td>False</td>\n",
       "    </tr>\n",
       "    <tr>\n",
       "      <th>5</th>\n",
       "      <td>False</td>\n",
       "      <td>True</td>\n",
       "      <td>False</td>\n",
       "    </tr>\n",
       "    <tr>\n",
       "      <th>6</th>\n",
       "      <td>False</td>\n",
       "      <td>False</td>\n",
       "      <td>True</td>\n",
       "    </tr>\n",
       "    <tr>\n",
       "      <th>7</th>\n",
       "      <td>False</td>\n",
       "      <td>False</td>\n",
       "      <td>True</td>\n",
       "    </tr>\n",
       "  </tbody>\n",
       "</table>\n",
       "</div>"
      ]
     },
     "execution_count": 471,
     "metadata": {},
     "output_type": "execute_result"
    }
   ],
   "execution_count": 471
  },
  {
   "cell_type": "markdown",
   "id": "55874415-e923-4179-86ea-502458cbcd7e",
   "metadata": {},
   "source": [
    "Now, change the cd, checking, and savings columns into integers."
   ]
  },
  {
   "metadata": {
    "ExecuteTime": {
     "end_time": "2025-03-08T04:22:56.815977Z",
     "start_time": "2025-03-08T04:22:56.808904Z"
    }
   },
   "cell_type": "code",
   "source": [
    "one_hot = pd.get_dummies(df_bank_datefix[\"AccountType\"],prefix='AccountType')\n",
    "one_hot_encoded = one_hot.astype(int)\n",
    "df_bank_datefix = df_bank_datefix.join(one_hot_encoded)\n",
    "df_bank_datefix = df_bank_datefix.drop(columns=['cd', 'checking', 'savings'], errors='ignore') #\n",
    "\n",
    "df_bank_datefix\n"
   ],
   "id": "3ac28b2d8cdd35f1",
   "outputs": [
    {
     "data": {
      "text/plain": [
       "    CustomerID  BirthDate          SSN  AccountID AccountOpened AccountType  \\\n",
       "3          3.0 2003-10-18  474-05-7613       86.0    2004-03-02          cd   \n",
       "4          4.0 1985-12-06  750-55-5509       77.0    2059-05-05          cd   \n",
       "5          5.0 2008-02-29  671-43-0485       75.0    2025-05-03    checking   \n",
       "6          6.0 1975-04-05  288-62-9296       56.0    2048-09-21     savings   \n",
       "7          7.0 2016-06-18  593-49-1249       16.0    2087-07-24     savings   \n",
       "..         ...        ...          ...        ...           ...         ...   \n",
       "88        88.0 1962-02-07  327-09-3267       97.0    1989-10-03          cd   \n",
       "90        90.0 1969-06-18  395-31-7064       34.0    2010-12-28    checking   \n",
       "94        94.0 1969-03-14  958-12-8308        5.0    2037-04-03     savings   \n",
       "95        95.0 1975-09-23  607-97-1651       36.0    2011-07-24    checking   \n",
       "96        96.0 1989-03-09  870-80-0364        0.0    2054-11-01          cd   \n",
       "\n",
       "    AccountType_cd  AccountType_checking  AccountType_savings  \n",
       "3                1                     0                    0  \n",
       "4                1                     0                    0  \n",
       "5                0                     1                    0  \n",
       "6                0                     0                    1  \n",
       "7                0                     0                    1  \n",
       "..             ...                   ...                  ...  \n",
       "88               1                     0                    0  \n",
       "90               0                     1                    0  \n",
       "94               0                     0                    1  \n",
       "95               0                     1                    0  \n",
       "96               1                     0                    0  \n",
       "\n",
       "[63 rows x 9 columns]"
      ],
      "text/html": [
       "<div>\n",
       "<style scoped>\n",
       "    .dataframe tbody tr th:only-of-type {\n",
       "        vertical-align: middle;\n",
       "    }\n",
       "\n",
       "    .dataframe tbody tr th {\n",
       "        vertical-align: top;\n",
       "    }\n",
       "\n",
       "    .dataframe thead th {\n",
       "        text-align: right;\n",
       "    }\n",
       "</style>\n",
       "<table border=\"1\" class=\"dataframe\">\n",
       "  <thead>\n",
       "    <tr style=\"text-align: right;\">\n",
       "      <th></th>\n",
       "      <th>CustomerID</th>\n",
       "      <th>BirthDate</th>\n",
       "      <th>SSN</th>\n",
       "      <th>AccountID</th>\n",
       "      <th>AccountOpened</th>\n",
       "      <th>AccountType</th>\n",
       "      <th>AccountType_cd</th>\n",
       "      <th>AccountType_checking</th>\n",
       "      <th>AccountType_savings</th>\n",
       "    </tr>\n",
       "  </thead>\n",
       "  <tbody>\n",
       "    <tr>\n",
       "      <th>3</th>\n",
       "      <td>3.0</td>\n",
       "      <td>2003-10-18</td>\n",
       "      <td>474-05-7613</td>\n",
       "      <td>86.0</td>\n",
       "      <td>2004-03-02</td>\n",
       "      <td>cd</td>\n",
       "      <td>1</td>\n",
       "      <td>0</td>\n",
       "      <td>0</td>\n",
       "    </tr>\n",
       "    <tr>\n",
       "      <th>4</th>\n",
       "      <td>4.0</td>\n",
       "      <td>1985-12-06</td>\n",
       "      <td>750-55-5509</td>\n",
       "      <td>77.0</td>\n",
       "      <td>2059-05-05</td>\n",
       "      <td>cd</td>\n",
       "      <td>1</td>\n",
       "      <td>0</td>\n",
       "      <td>0</td>\n",
       "    </tr>\n",
       "    <tr>\n",
       "      <th>5</th>\n",
       "      <td>5.0</td>\n",
       "      <td>2008-02-29</td>\n",
       "      <td>671-43-0485</td>\n",
       "      <td>75.0</td>\n",
       "      <td>2025-05-03</td>\n",
       "      <td>checking</td>\n",
       "      <td>0</td>\n",
       "      <td>1</td>\n",
       "      <td>0</td>\n",
       "    </tr>\n",
       "    <tr>\n",
       "      <th>6</th>\n",
       "      <td>6.0</td>\n",
       "      <td>1975-04-05</td>\n",
       "      <td>288-62-9296</td>\n",
       "      <td>56.0</td>\n",
       "      <td>2048-09-21</td>\n",
       "      <td>savings</td>\n",
       "      <td>0</td>\n",
       "      <td>0</td>\n",
       "      <td>1</td>\n",
       "    </tr>\n",
       "    <tr>\n",
       "      <th>7</th>\n",
       "      <td>7.0</td>\n",
       "      <td>2016-06-18</td>\n",
       "      <td>593-49-1249</td>\n",
       "      <td>16.0</td>\n",
       "      <td>2087-07-24</td>\n",
       "      <td>savings</td>\n",
       "      <td>0</td>\n",
       "      <td>0</td>\n",
       "      <td>1</td>\n",
       "    </tr>\n",
       "    <tr>\n",
       "      <th>...</th>\n",
       "      <td>...</td>\n",
       "      <td>...</td>\n",
       "      <td>...</td>\n",
       "      <td>...</td>\n",
       "      <td>...</td>\n",
       "      <td>...</td>\n",
       "      <td>...</td>\n",
       "      <td>...</td>\n",
       "      <td>...</td>\n",
       "    </tr>\n",
       "    <tr>\n",
       "      <th>88</th>\n",
       "      <td>88.0</td>\n",
       "      <td>1962-02-07</td>\n",
       "      <td>327-09-3267</td>\n",
       "      <td>97.0</td>\n",
       "      <td>1989-10-03</td>\n",
       "      <td>cd</td>\n",
       "      <td>1</td>\n",
       "      <td>0</td>\n",
       "      <td>0</td>\n",
       "    </tr>\n",
       "    <tr>\n",
       "      <th>90</th>\n",
       "      <td>90.0</td>\n",
       "      <td>1969-06-18</td>\n",
       "      <td>395-31-7064</td>\n",
       "      <td>34.0</td>\n",
       "      <td>2010-12-28</td>\n",
       "      <td>checking</td>\n",
       "      <td>0</td>\n",
       "      <td>1</td>\n",
       "      <td>0</td>\n",
       "    </tr>\n",
       "    <tr>\n",
       "      <th>94</th>\n",
       "      <td>94.0</td>\n",
       "      <td>1969-03-14</td>\n",
       "      <td>958-12-8308</td>\n",
       "      <td>5.0</td>\n",
       "      <td>2037-04-03</td>\n",
       "      <td>savings</td>\n",
       "      <td>0</td>\n",
       "      <td>0</td>\n",
       "      <td>1</td>\n",
       "    </tr>\n",
       "    <tr>\n",
       "      <th>95</th>\n",
       "      <td>95.0</td>\n",
       "      <td>1975-09-23</td>\n",
       "      <td>607-97-1651</td>\n",
       "      <td>36.0</td>\n",
       "      <td>2011-07-24</td>\n",
       "      <td>checking</td>\n",
       "      <td>0</td>\n",
       "      <td>1</td>\n",
       "      <td>0</td>\n",
       "    </tr>\n",
       "    <tr>\n",
       "      <th>96</th>\n",
       "      <td>96.0</td>\n",
       "      <td>1989-03-09</td>\n",
       "      <td>870-80-0364</td>\n",
       "      <td>0.0</td>\n",
       "      <td>2054-11-01</td>\n",
       "      <td>cd</td>\n",
       "      <td>1</td>\n",
       "      <td>0</td>\n",
       "      <td>0</td>\n",
       "    </tr>\n",
       "  </tbody>\n",
       "</table>\n",
       "<p>63 rows × 9 columns</p>\n",
       "</div>"
      ]
     },
     "execution_count": 472,
     "metadata": {},
     "output_type": "execute_result"
    }
   ],
   "execution_count": 472
  },
  {
   "cell_type": "code",
   "id": "edda21a5-bb8c-4824-b320-1416dd807fc0",
   "metadata": {
    "ExecuteTime": {
     "end_time": "2025-03-08T04:22:56.894449Z",
     "start_time": "2025-03-08T04:22:56.892432Z"
    }
   },
   "source": [],
   "outputs": [],
   "execution_count": null
  },
  {
   "cell_type": "markdown",
   "id": "5e884d3e-1d76-42a2-9b2e-86471286aa51",
   "metadata": {},
   "source": [
    "10. Are there any other data values that do not seem right?  If not, give an example?"
   ]
  },
  {
   "metadata": {
    "ExecuteTime": {
     "end_time": "2025-03-08T04:22:56.990491Z",
     "start_time": "2025-03-08T04:22:56.985637Z"
    }
   },
   "cell_type": "code",
   "source": "",
   "id": "1eac4cdbe3e1faec",
   "outputs": [],
   "execution_count": null
  },
  {
   "metadata": {},
   "cell_type": "markdown",
   "source": "#### The Below segment proves there is not duplicate customer id entries",
   "id": "66dd01ea0d1d74da"
  },
  {
   "metadata": {
    "ExecuteTime": {
     "end_time": "2025-03-08T04:22:57.057850Z",
     "start_time": "2025-03-08T04:22:57.054327Z"
    }
   },
   "cell_type": "code",
   "source": [
    "df_bank_datefix = df_bank_datefix[~df_bank_datefix.duplicated(subset='CustomerID')]\n",
    "df_bank_datefix.shape"
   ],
   "id": "21c4df5857d3d7bb",
   "outputs": [
    {
     "data": {
      "text/plain": [
       "(63, 9)"
      ]
     },
     "execution_count": 473,
     "metadata": {},
     "output_type": "execute_result"
    }
   ],
   "execution_count": 473
  },
  {
   "cell_type": "markdown",
   "id": "5c08a456-ae6d-4c79-8ca6-41f28d5cff20",
   "metadata": {},
   "source": [
    "I don't think Google or ChatGPT alone will help you here.  To answer the question, look at the columns and think about what relationships they should have with each other.  For example, it seems reasonable to expect that BirthDate would be no earlier than 120 years ago (it's unlikely that a customer would be this old.)  Now we can ask Google:\n",
    "\n",
    "\"How can I find out how long ago a pandas date is\"\n",
    "\n",
    "Google provides this helpful link, although it is not exactly the solution - you'll have to work with it a bit:\n",
    "\n",
    "https://stackoverflow.com/questions/26072087/pandas-number-of-days-elapsed-since-a-certain-date\n",
    "\n",
    "If you check, I think you'll find that all dates are more recent than 120 years ago.  What about the AccountOpened columns?  I see some obviously wrong dates there just by looking at the first few rows.\n",
    "\n",
    "Along those same lines, are there any birth dates that are too recent?  Do we think that any two year olds will have opened bank accounts?  How common do you think this is in real life?  How common is it in our data set?  Can you detect the two year olds opening bank accounts using just one column, or do you need two columns?"
   ]
  },
  {
   "metadata": {},
   "cell_type": "markdown",
   "source": "Searched google \"how to take a series of dates and convert it to age in python\" This article by google said  we need to convert to dates date time object and then calculate the age",
   "id": "3c10bd6d6770404a"
  },
  {
   "metadata": {
    "ExecuteTime": {
     "end_time": "2025-03-08T04:22:57.102241Z",
     "start_time": "2025-03-08T04:22:57.097742Z"
    }
   },
   "cell_type": "code",
   "source": [
    "\n",
    "dates = df_bank_datefix[\"BirthDate\"]\n",
    "ages =  dates.apply(calculateAge)\n",
    "\n",
    "\n",
    "#ages.max()\n",
    "\n",
    "ages.value_counts()\n",
    "#ages.max()"
   ],
   "id": "5d6d5fe3eb8c1a4d",
   "outputs": [
    {
     "data": {
      "text/plain": [
       "BirthDate\n",
       "33    3\n",
       "58    3\n",
       "28    3\n",
       "21    2\n",
       "56    2\n",
       "7     2\n",
       "24    2\n",
       "46    2\n",
       "35    2\n",
       "55    2\n",
       "34    2\n",
       "49    2\n",
       "31    1\n",
       "5     1\n",
       "30    1\n",
       "22    1\n",
       "12    1\n",
       "43    1\n",
       "44    1\n",
       "27    1\n",
       "1     1\n",
       "72    1\n",
       "2     1\n",
       "10    1\n",
       "25    1\n",
       "37    1\n",
       "41    1\n",
       "48    1\n",
       "63    1\n",
       "66    1\n",
       "73    1\n",
       "32    1\n",
       "67    1\n",
       "20    1\n",
       "36    1\n",
       "23    1\n",
       "14    1\n",
       "18    1\n",
       "9     1\n",
       "8     1\n",
       "17    1\n",
       "69    1\n",
       "61    1\n",
       "53    1\n",
       "39    1\n",
       "54    1\n",
       "68    1\n",
       "70    1\n",
       "Name: count, dtype: int64"
      ]
     },
     "execution_count": 474,
     "metadata": {},
     "output_type": "execute_result"
    }
   ],
   "execution_count": 474
  },
  {
   "metadata": {
    "ExecuteTime": {
     "end_time": "2025-03-08T04:22:57.243049Z",
     "start_time": "2025-03-08T04:22:57.232253Z"
    }
   },
   "cell_type": "code",
   "source": "ages.describe()",
   "id": "a0510a4d80faa2ae",
   "outputs": [
    {
     "data": {
      "text/plain": [
       "count    63.000000\n",
       "mean     36.841270\n",
       "std      19.816258\n",
       "min       1.000000\n",
       "25%      22.500000\n",
       "50%      34.000000\n",
       "75%      54.500000\n",
       "max      73.000000\n",
       "Name: BirthDate, dtype: float64"
      ]
     },
     "execution_count": 475,
     "metadata": {},
     "output_type": "execute_result"
    }
   ],
   "execution_count": 475
  },
  {
   "metadata": {},
   "cell_type": "markdown",
   "source": [
    "#### When we look into above we see ages look very normal\n",
    "\n",
    "We will now look into account Open date column and see if there is anything interesting\n"
   ],
   "id": "d4f823478f98b90b"
  },
  {
   "metadata": {
    "ExecuteTime": {
     "end_time": "2025-03-08T04:22:57.374059Z",
     "start_time": "2025-03-08T04:22:57.366755Z"
    }
   },
   "cell_type": "code",
   "source": "df_bank_datefix[\"AccountOpened\"].describe()",
   "id": "e4b977705d2c9a80",
   "outputs": [
    {
     "data": {
      "text/plain": [
       "count                               63\n",
       "mean     2031-11-21 17:54:17.142857216\n",
       "min                1953-05-05 00:00:00\n",
       "25%                2009-01-05 12:00:00\n",
       "50%                2031-01-21 00:00:00\n",
       "75%                2060-03-30 00:00:00\n",
       "max                2094-12-17 00:00:00\n",
       "Name: AccountOpened, dtype: object"
      ]
     },
     "execution_count": 476,
     "metadata": {},
     "output_type": "execute_result"
    }
   ],
   "execution_count": 476
  },
  {
   "metadata": {
    "ExecuteTime": {
     "end_time": "2025-03-08T04:22:57.552457Z",
     "start_time": "2025-03-08T04:22:57.543149Z"
    }
   },
   "cell_type": "code",
   "source": [
    "dates = df_bank_datefix[\"AccountOpened\"]\n",
    "ages =  dates.apply(calculateAge)\n",
    "ages.describe()"
   ],
   "id": "2fe893b9686ff0ae",
   "outputs": [
    {
     "data": {
      "text/plain": [
       "count    63.000000\n",
       "mean     -7.222222\n",
       "std      31.786305\n",
       "min     -70.000000\n",
       "25%     -35.500000\n",
       "50%      -6.000000\n",
       "75%      15.500000\n",
       "max      71.000000\n",
       "Name: AccountOpened, dtype: float64"
      ]
     },
     "execution_count": 477,
     "metadata": {},
     "output_type": "execute_result"
    }
   ],
   "execution_count": 477
  },
  {
   "metadata": {
    "ExecuteTime": {
     "end_time": "2025-03-08T04:22:57.738587Z",
     "start_time": "2025-03-08T04:22:57.715476Z"
    }
   },
   "cell_type": "code",
   "source": [
    "#Since there are -ve dates in multiple summary info so we have data quality issues and need data for those needs to be removed\n",
    "df_bank_datefix_Acc_age_clean = df_bank_datefix[ages >= 0] "
   ],
   "id": "5a3125201cabc0d2",
   "outputs": [],
   "execution_count": 478
  },
  {
   "metadata": {
    "ExecuteTime": {
     "end_time": "2025-03-08T04:22:57.898743Z",
     "start_time": "2025-03-08T04:22:57.873417Z"
    }
   },
   "cell_type": "code",
   "source": [
    "#since max of ages series is 71 so there dones look to be data which is bad on positive side , if we would have seen > 122 yes then would have cleaned\n",
    "# lets see how the date looks\n",
    "df_bank_datefix_Acc_age_clean.describe()"
   ],
   "id": "3b294d9d53e66d2f",
   "outputs": [
    {
     "data": {
      "text/plain": [
       "       CustomerID            BirthDate  AccountID        AccountOpened  \\\n",
       "count   27.000000                   27  27.000000                   27   \n",
       "mean    41.555556  1977-08-03 03:33:20  56.666667  2002-03-29 18:40:00   \n",
       "min      3.000000  1952-01-26 00:00:00   1.000000  1953-05-05 00:00:00   \n",
       "25%     21.000000  1965-03-09 12:00:00  32.500000  1996-09-19 12:00:00   \n",
       "50%     34.000000  1975-09-23 00:00:00  67.000000  2008-04-04 00:00:00   \n",
       "75%     60.000000  1991-06-29 12:00:00  83.000000  2012-08-06 12:00:00   \n",
       "max     95.000000  2013-03-02 00:00:00  97.000000  2023-03-16 00:00:00   \n",
       "std     26.549422                  NaN  30.502207                  NaN   \n",
       "\n",
       "       AccountType_cd  AccountType_checking  AccountType_savings  \n",
       "count       27.000000             27.000000            27.000000  \n",
       "mean         0.222222              0.481481             0.296296  \n",
       "min          0.000000              0.000000             0.000000  \n",
       "25%          0.000000              0.000000             0.000000  \n",
       "50%          0.000000              0.000000             0.000000  \n",
       "75%          0.000000              1.000000             1.000000  \n",
       "max          1.000000              1.000000             1.000000  \n",
       "std          0.423659              0.509175             0.465322  "
      ],
      "text/html": [
       "<div>\n",
       "<style scoped>\n",
       "    .dataframe tbody tr th:only-of-type {\n",
       "        vertical-align: middle;\n",
       "    }\n",
       "\n",
       "    .dataframe tbody tr th {\n",
       "        vertical-align: top;\n",
       "    }\n",
       "\n",
       "    .dataframe thead th {\n",
       "        text-align: right;\n",
       "    }\n",
       "</style>\n",
       "<table border=\"1\" class=\"dataframe\">\n",
       "  <thead>\n",
       "    <tr style=\"text-align: right;\">\n",
       "      <th></th>\n",
       "      <th>CustomerID</th>\n",
       "      <th>BirthDate</th>\n",
       "      <th>AccountID</th>\n",
       "      <th>AccountOpened</th>\n",
       "      <th>AccountType_cd</th>\n",
       "      <th>AccountType_checking</th>\n",
       "      <th>AccountType_savings</th>\n",
       "    </tr>\n",
       "  </thead>\n",
       "  <tbody>\n",
       "    <tr>\n",
       "      <th>count</th>\n",
       "      <td>27.000000</td>\n",
       "      <td>27</td>\n",
       "      <td>27.000000</td>\n",
       "      <td>27</td>\n",
       "      <td>27.000000</td>\n",
       "      <td>27.000000</td>\n",
       "      <td>27.000000</td>\n",
       "    </tr>\n",
       "    <tr>\n",
       "      <th>mean</th>\n",
       "      <td>41.555556</td>\n",
       "      <td>1977-08-03 03:33:20</td>\n",
       "      <td>56.666667</td>\n",
       "      <td>2002-03-29 18:40:00</td>\n",
       "      <td>0.222222</td>\n",
       "      <td>0.481481</td>\n",
       "      <td>0.296296</td>\n",
       "    </tr>\n",
       "    <tr>\n",
       "      <th>min</th>\n",
       "      <td>3.000000</td>\n",
       "      <td>1952-01-26 00:00:00</td>\n",
       "      <td>1.000000</td>\n",
       "      <td>1953-05-05 00:00:00</td>\n",
       "      <td>0.000000</td>\n",
       "      <td>0.000000</td>\n",
       "      <td>0.000000</td>\n",
       "    </tr>\n",
       "    <tr>\n",
       "      <th>25%</th>\n",
       "      <td>21.000000</td>\n",
       "      <td>1965-03-09 12:00:00</td>\n",
       "      <td>32.500000</td>\n",
       "      <td>1996-09-19 12:00:00</td>\n",
       "      <td>0.000000</td>\n",
       "      <td>0.000000</td>\n",
       "      <td>0.000000</td>\n",
       "    </tr>\n",
       "    <tr>\n",
       "      <th>50%</th>\n",
       "      <td>34.000000</td>\n",
       "      <td>1975-09-23 00:00:00</td>\n",
       "      <td>67.000000</td>\n",
       "      <td>2008-04-04 00:00:00</td>\n",
       "      <td>0.000000</td>\n",
       "      <td>0.000000</td>\n",
       "      <td>0.000000</td>\n",
       "    </tr>\n",
       "    <tr>\n",
       "      <th>75%</th>\n",
       "      <td>60.000000</td>\n",
       "      <td>1991-06-29 12:00:00</td>\n",
       "      <td>83.000000</td>\n",
       "      <td>2012-08-06 12:00:00</td>\n",
       "      <td>0.000000</td>\n",
       "      <td>1.000000</td>\n",
       "      <td>1.000000</td>\n",
       "    </tr>\n",
       "    <tr>\n",
       "      <th>max</th>\n",
       "      <td>95.000000</td>\n",
       "      <td>2013-03-02 00:00:00</td>\n",
       "      <td>97.000000</td>\n",
       "      <td>2023-03-16 00:00:00</td>\n",
       "      <td>1.000000</td>\n",
       "      <td>1.000000</td>\n",
       "      <td>1.000000</td>\n",
       "    </tr>\n",
       "    <tr>\n",
       "      <th>std</th>\n",
       "      <td>26.549422</td>\n",
       "      <td>NaN</td>\n",
       "      <td>30.502207</td>\n",
       "      <td>NaN</td>\n",
       "      <td>0.423659</td>\n",
       "      <td>0.509175</td>\n",
       "      <td>0.465322</td>\n",
       "    </tr>\n",
       "  </tbody>\n",
       "</table>\n",
       "</div>"
      ]
     },
     "execution_count": 479,
     "metadata": {},
     "output_type": "execute_result"
    }
   ],
   "execution_count": 479
  },
  {
   "cell_type": "markdown",
   "id": "63be984a-21d0-43e7-8a55-fb8a67b8a351",
   "metadata": {},
   "source": [
    "11. Use Matplotlib and/or Seaborn to analyse the ages at which customers open their account.  Is there a connection between the year they are born vs. the age at which they open the account?  Graph this in whatever way you think is best."
   ]
  },
  {
   "cell_type": "markdown",
   "id": "84574af6-9f3a-481a-843a-877388973ef2",
   "metadata": {},
   "source": [
    "I asked Google and ChatGPT: \"How can I plot dates vs. dates in Matplotlib\".  This gave me a hard time at first - I had to tell ChatGPT it was giving me the wrong information because it tried to plot dates vs. numbers.  Eventually, I found out that you plot dates vs. dates in the same way you'd plot numbers vs. numbers.\n",
    "\n",
    "Think in terms of Storytelling With Data to plot these as best you can.  Once you've seen the result, try to think of the best way to plot the data so as to show the user what you want them to see.  Title the graph so as to display the lesson that you want the user to take away.\n",
    "Here are some options for the axes:\n",
    "\n",
    "1. A scatter or line plot: On the x-axis, the date they are born.  On the y-axis, the date they open the account.\n",
    "2. A scatter or line plot: On the x-axis, the date they are born.  On the y-axis, the age in years at which they open the account.\n",
    "3. A scatter or line plot: On the x-axis, they year (integer) they are born.  On the y-axis, the age in years at which they open the account.\n",
    "4. A histogram: on the x-axis, the age at which they open the account.\n",
    "\n",
    "Here is an example:"
   ]
  },
  {
   "cell_type": "code",
   "id": "453acced-f7b1-4bb5-943d-716ae0505ace",
   "metadata": {
    "ExecuteTime": {
     "end_time": "2025-03-08T04:22:58.652912Z",
     "start_time": "2025-03-08T04:22:58.082903Z"
    }
   },
   "source": [
    "import matplotlib.pyplot as plt\n",
    "\n",
    "ax = plt.gca() # get an \"Axes\" object to draw on; gca stands for \"get current Axes\"\n",
    "ax.scatter(df_bank_datefix[\"BirthDate\"], df_bank_datefix[\"AccountOpened\"]) # create a scatter plot based on these two dates\n",
    "ax.set_ylabel(\"Account Opened\") # label the y axis\n",
    "ax.set_xlabel(\"Birth Date\") # label the x axis"
   ],
   "outputs": [
    {
     "data": {
      "text/plain": [
       "Text(0.5, 0, 'Birth Date')"
      ]
     },
     "execution_count": 480,
     "metadata": {},
     "output_type": "execute_result"
    },
    {
     "data": {
      "text/plain": [
       "<Figure size 640x480 with 1 Axes>"
      ],
      "image/png": "[encoded data removed]"
     },
     "metadata": {},
     "output_type": "display_data"
    }
   ],
   "execution_count": 480
  },
  {
   "cell_type": "markdown",
   "id": "f5d2ca82-ea81-46e5-9002-8321987d08d9",
   "metadata": {},
   "source": [
    "# 4. Storytelling With Data graph"
   ]
  },
  {
   "cell_type": "markdown",
   "id": "b00e6940-4a0c-4b3e-93dd-460239bf9940",
   "metadata": {},
   "source": [
    "Choose any graph in the Introduction of Storytelling With Data.  Using matplotlib to reproduce it in a rough way.  I don't expect you to spend an enormous amount of time on this; I understand that you likely will not have time to re-create every feature of the graph.  However, if you're excited about learning to use matplotlib, this is a good way to do that.  You don't have to duplicate the exact values on the graph; just the same rough shape will be enough.  If you don't feel comfortable using matplotlib yet, do the best you can and write down what you tried or what Google searches you did to find the answers."
   ]
  },
  {
   "metadata": {
    "ExecuteTime": {
     "end_time": "2025-03-08T04:22:58.853268Z",
     "start_time": "2025-03-08T04:22:58.777462Z"
    }
   },
   "cell_type": "code",
   "source": [
    "'''\n",
    "FromCHat GPT: \"how to do a relative frequency in a column\"\n",
    "import pandas as pd\n",
    "\n",
    "# Sample data\n",
    "data = {'Category': ['A', 'B', 'A', 'C', 'A', 'B', 'C', 'C', 'A', 'B']}\n",
    "df = pd.DataFrame(data)\n",
    "\n",
    "# Calculate relative frequency\n",
    "relative_frequency = df['Category'].value_counts(normalize=True)\n",
    "\n",
    "# Display the relative frequencies\n",
    "print(relative_frequency)\n",
    "'''\n",
    "\n",
    "# Calculate the value counts needed for the pie chart display\n",
    "account_distribution = df_bank_datefix['AccountType'].value_counts()\n",
    "#calculate the  percentage by relative frequency * 100\n",
    "account_percentages = df_bank_datefix['AccountType'].value_counts(normalize=True) * 100\n",
    "\n",
    "# Create labels with both count and percentage\n",
    "labels = [f'{type_}: {count} ({percentage:.1f}%)'\n",
    "          for type_, count, percentage\n",
    "          in zip(account_distribution.index, account_distribution, account_percentages)]\n",
    "'''\n",
    "From google  search : \"what are four color for color blind people\"\n",
    "When creating color-blind-friendly palettes, you can use a combination of blue, red, orange, and yellow. You can also use magenta, green, and cyan.  Avoid red and green:\n",
    "FromCHatGPT : how do I plot a piechart with color and pattern both\"\n",
    "\n",
    "# Define colors for each section\n",
    "colors = ['#ff9999', '#66b3ff', '#99ff99']\n",
    "\n",
    "# Define patterns for each section (you can use different patterns like '/', '\\\\', 'x', etc.)\n",
    "patterns = ['|', '\\\\', 'x']\n",
    "\n",
    "# Create the pie chart\n",
    "fig, ax = plt.subplots()\n",
    "wedges, texts, autotexts = ax.pie(sizes, labels=labels, autopct='%1.1f%%', startangle=90,\n",
    "                                  colors=colors, wedgeprops={'hatch': patterns})\n",
    "                                  \n",
    "\n",
    "                                  \n",
    "\n",
    "'''\n",
    "# Define colors and patterns using a colorblind-friendly palette\n",
    "colors = ['#E69F00', '#56B4E9', '#009E73', '#F0E442', '#0072B2', '#D55E00', '#CC79A7']\n",
    "patterns = ['+', '|', '/']\n",
    "# Create pie chart\n",
    "fig, ax = plt.subplots(figsize=(10, 8))\n",
    "wedges, texts = ax.pie(account_distribution, colors=colors[:len(account_distribution)], startangle=90)\n",
    "\n",
    "# Add patterns to the wedges\n",
    "for wedge, pattern in zip(wedges, patterns):\n",
    "    wedge.set_hatch(pattern)\n",
    "\n",
    "# Add labels\n",
    "plt.legend(wedges, labels, title=\"Account Types Count & Percentage\")\n",
    "\n",
    "plt.title('Distribution of Account Types')\n",
    "\n",
    "plt.show()"
   ],
   "id": "73afcd205b52a612",
   "outputs": [
    {
     "data": {
      "text/plain": [
       "<Figure size 1000x800 with 1 Axes>"
      ],
      "image/png": "[encoded data removed]"
     },
     "metadata": {},
     "output_type": "display_data"
    }
   ],
   "execution_count": 481
  },
  {
   "metadata": {
    "ExecuteTime": {
     "end_time": "2025-03-08T04:22:58.870951Z",
     "start_time": "2025-03-08T04:22:58.869206Z"
    }
   },
   "cell_type": "code",
   "source": "",
   "id": "a57b479a66c1b069",
   "outputs": [],
   "execution_count": null
  }
 ],
 "metadata": {
  "kernelspec": {
   "display_name": "Python 3 (ipykernel)",
   "language": "python",
   "name": "python3"
  },
  "language_info": {
   "codemirror_mode": {
    "name": "ipython",
    "version": 3
   },
   "file_extension": ".py",
   "mimetype": "text/x-python",
   "name": "python",
   "nbconvert_exporter": "python",
   "pygments_lexer": "ipython3",
   "version": "3.12.0"
  }
 },
 "nbformat": 4,
 "nbformat_minor": 5
}
